{
 "cells": [
  {
   "cell_type": "code",
   "execution_count": 1,
   "id": "a4422350",
   "metadata": {},
   "outputs": [
    {
     "name": "stdout",
     "output_type": "stream",
     "text": [
      "Travelling Salesman Problem Solution is below:;\n",
      "Tour: [0, 1, 3, 2, 0]\n",
      "Total Distance: 80\n"
     ]
    }
   ],
   "source": [
    "def nearest_neighbor(graph, start):\n",
    "    n = len(graph)\n",
    "    visited = [False] * n\n",
    "    tour = [start]\n",
    "    visited[start] = True\n",
    "\n",
    "    for _ in range(n - 1):\n",
    "        nearest_city = None\n",
    "        min_dist = float('inf')\n",
    "        current_city = tour[-1]\n",
    "\n",
    "        for neighbor in range(n):\n",
    "            if not visited[neighbor] and graph[current_city][neighbor] < min_dist:\n",
    "                nearest_city = neighbor\n",
    "                min_dist = graph[current_city][neighbor]\n",
    "\n",
    "        tour.append(nearest_city)\n",
    "        visited[nearest_city] = True\n",
    "    tour.append(0)\n",
    "    return tour\n",
    "\n",
    "def total_distance(graph, tour):\n",
    "    distance = 0\n",
    "    for i in range(len(tour)):\n",
    "        distance += graph[tour[i-1]][tour[i]]\n",
    "    return distance\n",
    "\n",
    "def tsp_nearest_neighbor(graph):\n",
    "    n = len(graph)\n",
    "    start_city = 0  # Start from city 0\n",
    "    tour = nearest_neighbor(graph, start_city)\n",
    "    return tour, total_distance(graph, tour)\n",
    "\n",
    "# Define a graph (distance matrix) where graph[i][j] represents the distance from city i to city j\n",
    "graph = [\n",
    "    [0, 10, 15, 20],\n",
    "    [10, 0, 35, 25],\n",
    "    [15, 35, 0, 30],\n",
    "    [20, 25, 30, 0]\n",
    "]\n",
    "\n",
    "tour, distance = tsp_nearest_neighbor(graph)\n",
    "print(\"Travelling Salesman Problem Solution is below:;\")\n",
    "print(\"Tour:\", tour)\n",
    "print(\"Total Distance:\", distance)"
   ]
  },
  {
   "cell_type": "code",
   "execution_count": 6,
   "id": "0cfe4461",
   "metadata": {},
   "outputs": [
    {
     "name": "stdout",
     "output_type": "stream",
     "text": [
      "Path tour is  [0, 1, 3, 2, 0]\n",
      "Path distance is  80\n"
     ]
    }
   ],
   "source": [
    "def nearest_neughbor(graph, start):\n",
    "    n = len(graph)\n",
    "    visited = [False] * n\n",
    "    tour = [start]\n",
    "    visited[start] = True\n",
    "    \n",
    "    for _ in range(n-1):\n",
    "        nearest_city = None\n",
    "        min_dist = float('inf')\n",
    "        current_city = tour[-1]\n",
    "        \n",
    "        for neighbor in range(n):\n",
    "            if not visited[neighbor] and graph[current_city][neighbor] < min_dist:\n",
    "                nearest_city = neighbor\n",
    "                min_dist = graph[current_city][neighbor]\n",
    "                \n",
    "        tour.append(nearest_city)\n",
    "        visited[nearest_city] = True\n",
    "        \n",
    "    tour.append(0)\n",
    "    return tour \n",
    "\n",
    "def tour_distances(graph, tour):\n",
    "    distance = 0\n",
    "    for i in range(len((tour))):\n",
    "        distance += graph[tour[i-1]][tour[i]]\n",
    "    return distance\n",
    "\n",
    "def tsp(graph):\n",
    "    n = len(graph)\n",
    "    start_city = 0\n",
    "    tour = nearest_neughbor(graph,start_city)\n",
    "    return tour, tour_distances(graph, tour)\n",
    "\n",
    "graph =[\n",
    "        [0,10,15,20],\n",
    "        [10,0,35,25],\n",
    "        [15,35,0,30],\n",
    "        [20,25,30,0]\n",
    "]\n",
    "\n",
    "tour , distance = tsp(graph)\n",
    "\n",
    "print(\"Path tour is \",tour)\n",
    "print(\"Path distance is \",distance)"
   ]
  },
  {
   "cell_type": "code",
   "execution_count": null,
   "id": "116c57fd",
   "metadata": {},
   "outputs": [],
   "source": []
  }
 ],
 "metadata": {
  "kernelspec": {
   "display_name": "Python 3 (ipykernel)",
   "language": "python",
   "name": "python3"
  },
  "language_info": {
   "codemirror_mode": {
    "name": "ipython",
    "version": 3
   },
   "file_extension": ".py",
   "mimetype": "text/x-python",
   "name": "python",
   "nbconvert_exporter": "python",
   "pygments_lexer": "ipython3",
   "version": "3.11.5"
  }
 },
 "nbformat": 4,
 "nbformat_minor": 5
}
