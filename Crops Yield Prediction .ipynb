{
 "cells": [
  {
   "cell_type": "code",
   "execution_count": 1,
   "id": "16db04c6",
   "metadata": {},
   "outputs": [],
   "source": [
    "# Importing the Required Packages\n",
    "import pandas as pd\n",
    "from sklearn.model_selection import train_test_split\n",
    "from sklearn.preprocessing import LabelEncoder\n",
    "from sklearn.linear_model import LinearRegression\n",
    "from sklearn.tree import DecisionTreeRegressor\n",
    "from sklearn.ensemble import ExtraTreesRegressor,RandomForestRegressor,VotingRegressor\n",
    "from sklearn.neighbors import KNeighborsRegressor\n",
    "from xgboost import XGBRegressor"
   ]
  },
  {
   "cell_type": "code",
   "execution_count": 2,
   "id": "4127eddb",
   "metadata": {},
   "outputs": [
    {
     "data": {
      "text/html": [
       "<div>\n",
       "<style scoped>\n",
       "    .dataframe tbody tr th:only-of-type {\n",
       "        vertical-align: middle;\n",
       "    }\n",
       "\n",
       "    .dataframe tbody tr th {\n",
       "        vertical-align: top;\n",
       "    }\n",
       "\n",
       "    .dataframe thead th {\n",
       "        text-align: right;\n",
       "    }\n",
       "</style>\n",
       "<table border=\"1\" class=\"dataframe\">\n",
       "  <thead>\n",
       "    <tr style=\"text-align: right;\">\n",
       "      <th></th>\n",
       "      <th>Crop</th>\n",
       "      <th>Crop_Year</th>\n",
       "      <th>Season</th>\n",
       "      <th>State</th>\n",
       "      <th>Area</th>\n",
       "      <th>Production</th>\n",
       "      <th>Annual_Rainfall</th>\n",
       "      <th>Fertilizer</th>\n",
       "      <th>Pesticide</th>\n",
       "      <th>Yield</th>\n",
       "    </tr>\n",
       "  </thead>\n",
       "  <tbody>\n",
       "    <tr>\n",
       "      <th>0</th>\n",
       "      <td>Arecanut</td>\n",
       "      <td>1997</td>\n",
       "      <td>Whole Year</td>\n",
       "      <td>Assam</td>\n",
       "      <td>73814.0</td>\n",
       "      <td>56708</td>\n",
       "      <td>2051.4</td>\n",
       "      <td>7024878.38</td>\n",
       "      <td>22882.34</td>\n",
       "      <td>0.796087</td>\n",
       "    </tr>\n",
       "    <tr>\n",
       "      <th>1</th>\n",
       "      <td>Arhar/Tur</td>\n",
       "      <td>1997</td>\n",
       "      <td>Kharif</td>\n",
       "      <td>Assam</td>\n",
       "      <td>6637.0</td>\n",
       "      <td>4685</td>\n",
       "      <td>2051.4</td>\n",
       "      <td>631643.29</td>\n",
       "      <td>2057.47</td>\n",
       "      <td>0.710435</td>\n",
       "    </tr>\n",
       "    <tr>\n",
       "      <th>2</th>\n",
       "      <td>Castor seed</td>\n",
       "      <td>1997</td>\n",
       "      <td>Kharif</td>\n",
       "      <td>Assam</td>\n",
       "      <td>796.0</td>\n",
       "      <td>22</td>\n",
       "      <td>2051.4</td>\n",
       "      <td>75755.32</td>\n",
       "      <td>246.76</td>\n",
       "      <td>0.238333</td>\n",
       "    </tr>\n",
       "    <tr>\n",
       "      <th>3</th>\n",
       "      <td>Coconut</td>\n",
       "      <td>1997</td>\n",
       "      <td>Whole Year</td>\n",
       "      <td>Assam</td>\n",
       "      <td>19656.0</td>\n",
       "      <td>126905000</td>\n",
       "      <td>2051.4</td>\n",
       "      <td>1870661.52</td>\n",
       "      <td>6093.36</td>\n",
       "      <td>5238.051739</td>\n",
       "    </tr>\n",
       "    <tr>\n",
       "      <th>4</th>\n",
       "      <td>Cotton(lint)</td>\n",
       "      <td>1997</td>\n",
       "      <td>Kharif</td>\n",
       "      <td>Assam</td>\n",
       "      <td>1739.0</td>\n",
       "      <td>794</td>\n",
       "      <td>2051.4</td>\n",
       "      <td>165500.63</td>\n",
       "      <td>539.09</td>\n",
       "      <td>0.420909</td>\n",
       "    </tr>\n",
       "    <tr>\n",
       "      <th>...</th>\n",
       "      <td>...</td>\n",
       "      <td>...</td>\n",
       "      <td>...</td>\n",
       "      <td>...</td>\n",
       "      <td>...</td>\n",
       "      <td>...</td>\n",
       "      <td>...</td>\n",
       "      <td>...</td>\n",
       "      <td>...</td>\n",
       "      <td>...</td>\n",
       "    </tr>\n",
       "    <tr>\n",
       "      <th>19684</th>\n",
       "      <td>Small millets</td>\n",
       "      <td>1998</td>\n",
       "      <td>Kharif</td>\n",
       "      <td>Nagaland</td>\n",
       "      <td>4000.0</td>\n",
       "      <td>2000</td>\n",
       "      <td>1498.0</td>\n",
       "      <td>395200.00</td>\n",
       "      <td>1160.00</td>\n",
       "      <td>0.500000</td>\n",
       "    </tr>\n",
       "    <tr>\n",
       "      <th>19685</th>\n",
       "      <td>Wheat</td>\n",
       "      <td>1998</td>\n",
       "      <td>Rabi</td>\n",
       "      <td>Nagaland</td>\n",
       "      <td>1000.0</td>\n",
       "      <td>3000</td>\n",
       "      <td>1498.0</td>\n",
       "      <td>98800.00</td>\n",
       "      <td>290.00</td>\n",
       "      <td>3.000000</td>\n",
       "    </tr>\n",
       "    <tr>\n",
       "      <th>19686</th>\n",
       "      <td>Maize</td>\n",
       "      <td>1997</td>\n",
       "      <td>Kharif</td>\n",
       "      <td>Jammu and Kashmir</td>\n",
       "      <td>310883.0</td>\n",
       "      <td>440900</td>\n",
       "      <td>1356.2</td>\n",
       "      <td>29586735.11</td>\n",
       "      <td>96373.73</td>\n",
       "      <td>1.285000</td>\n",
       "    </tr>\n",
       "    <tr>\n",
       "      <th>19687</th>\n",
       "      <td>Rice</td>\n",
       "      <td>1997</td>\n",
       "      <td>Kharif</td>\n",
       "      <td>Jammu and Kashmir</td>\n",
       "      <td>275746.0</td>\n",
       "      <td>5488</td>\n",
       "      <td>1356.2</td>\n",
       "      <td>26242746.82</td>\n",
       "      <td>85481.26</td>\n",
       "      <td>0.016667</td>\n",
       "    </tr>\n",
       "    <tr>\n",
       "      <th>19688</th>\n",
       "      <td>Wheat</td>\n",
       "      <td>1997</td>\n",
       "      <td>Rabi</td>\n",
       "      <td>Jammu and Kashmir</td>\n",
       "      <td>239344.0</td>\n",
       "      <td>392160</td>\n",
       "      <td>1356.2</td>\n",
       "      <td>22778368.48</td>\n",
       "      <td>74196.64</td>\n",
       "      <td>1.261818</td>\n",
       "    </tr>\n",
       "  </tbody>\n",
       "</table>\n",
       "<p>19689 rows × 10 columns</p>\n",
       "</div>"
      ],
      "text/plain": [
       "                Crop  Crop_Year       Season              State      Area  \\\n",
       "0           Arecanut       1997  Whole Year               Assam   73814.0   \n",
       "1          Arhar/Tur       1997  Kharif                   Assam    6637.0   \n",
       "2        Castor seed       1997  Kharif                   Assam     796.0   \n",
       "3           Coconut        1997  Whole Year               Assam   19656.0   \n",
       "4       Cotton(lint)       1997  Kharif                   Assam    1739.0   \n",
       "...              ...        ...          ...                ...       ...   \n",
       "19684  Small millets       1998  Kharif                Nagaland    4000.0   \n",
       "19685          Wheat       1998  Rabi                  Nagaland    1000.0   \n",
       "19686          Maize       1997  Kharif       Jammu and Kashmir  310883.0   \n",
       "19687           Rice       1997  Kharif       Jammu and Kashmir  275746.0   \n",
       "19688          Wheat       1997  Rabi         Jammu and Kashmir  239344.0   \n",
       "\n",
       "       Production  Annual_Rainfall   Fertilizer  Pesticide        Yield  \n",
       "0           56708           2051.4   7024878.38   22882.34     0.796087  \n",
       "1            4685           2051.4    631643.29    2057.47     0.710435  \n",
       "2              22           2051.4     75755.32     246.76     0.238333  \n",
       "3       126905000           2051.4   1870661.52    6093.36  5238.051739  \n",
       "4             794           2051.4    165500.63     539.09     0.420909  \n",
       "...           ...              ...          ...        ...          ...  \n",
       "19684        2000           1498.0    395200.00    1160.00     0.500000  \n",
       "19685        3000           1498.0     98800.00     290.00     3.000000  \n",
       "19686      440900           1356.2  29586735.11   96373.73     1.285000  \n",
       "19687        5488           1356.2  26242746.82   85481.26     0.016667  \n",
       "19688      392160           1356.2  22778368.48   74196.64     1.261818  \n",
       "\n",
       "[19689 rows x 10 columns]"
      ]
     },
     "execution_count": 2,
     "metadata": {},
     "output_type": "execute_result"
    }
   ],
   "source": [
    "# Getting the Dataset\n",
    "crop = pd.read_csv(\"crop_yield.csv\")\n",
    "crop"
   ]
  },
  {
   "cell_type": "code",
   "execution_count": 3,
   "id": "9939d745",
   "metadata": {},
   "outputs": [
    {
     "data": {
      "text/plain": [
       "(19689, 10)"
      ]
     },
     "execution_count": 3,
     "metadata": {},
     "output_type": "execute_result"
    }
   ],
   "source": [
    "# Checking tje size of dataset in (rows,columns) form\n",
    "crop.shape"
   ]
  },
  {
   "cell_type": "code",
   "execution_count": 4,
   "id": "381ce484",
   "metadata": {},
   "outputs": [
    {
     "data": {
      "text/plain": [
       "Crop               0\n",
       "Crop_Year          0\n",
       "Season             0\n",
       "State              0\n",
       "Area               0\n",
       "Production         0\n",
       "Annual_Rainfall    0\n",
       "Fertilizer         0\n",
       "Pesticide          0\n",
       "Yield              0\n",
       "dtype: int64"
      ]
     },
     "execution_count": 4,
     "metadata": {},
     "output_type": "execute_result"
    }
   ],
   "source": [
    "# Checking that the dataset has null value or not\n",
    "crop.isnull().sum()"
   ]
  },
  {
   "cell_type": "code",
   "execution_count": 5,
   "id": "379e160e",
   "metadata": {},
   "outputs": [
    {
     "data": {
      "text/plain": [
       "array(['Arecanut', 'Arhar/Tur', 'Castor seed', 'Coconut ', 'Cotton(lint)',\n",
       "       'Dry chillies', 'Gram', 'Jute', 'Linseed', 'Maize', 'Mesta',\n",
       "       'Niger seed', 'Onion', 'Other  Rabi pulses', 'Potato',\n",
       "       'Rapeseed &Mustard', 'Rice', 'Sesamum', 'Small millets',\n",
       "       'Sugarcane', 'Sweet potato', 'Tapioca', 'Tobacco', 'Turmeric',\n",
       "       'Wheat', 'Bajra', 'Black pepper', 'Cardamom', 'Coriander',\n",
       "       'Garlic', 'Ginger', 'Groundnut', 'Horse-gram', 'Jowar', 'Ragi',\n",
       "       'Cashewnut', 'Banana', 'Soyabean', 'Barley', 'Khesari', 'Masoor',\n",
       "       'Moong(Green Gram)', 'Other Kharif pulses', 'Safflower',\n",
       "       'Sannhamp', 'Sunflower', 'Urad', 'Peas & beans (Pulses)',\n",
       "       'other oilseeds', 'Other Cereals', 'Cowpea(Lobia)',\n",
       "       'Oilseeds total', 'Guar seed', 'Other Summer Pulses', 'Moth'],\n",
       "      dtype=object)"
      ]
     },
     "execution_count": 5,
     "metadata": {},
     "output_type": "execute_result"
    }
   ],
   "source": [
    "# Getting unique value of crop\n",
    "crop[\"Crop\"].unique()"
   ]
  },
  {
   "cell_type": "code",
   "execution_count": 6,
   "id": "f8a0d0cb",
   "metadata": {},
   "outputs": [
    {
     "data": {
      "text/plain": [
       "array(['Whole Year ', 'Kharif     ', 'Rabi       ', 'Autumn     ',\n",
       "       'Summer     ', 'Winter     '], dtype=object)"
      ]
     },
     "execution_count": 6,
     "metadata": {},
     "output_type": "execute_result"
    }
   ],
   "source": [
    "crop[\"Season\"].unique()"
   ]
  },
  {
   "cell_type": "code",
   "execution_count": 7,
   "id": "156ce375",
   "metadata": {},
   "outputs": [
    {
     "data": {
      "text/plain": [
       "array(['Assam', 'Karnataka', 'Kerala', 'Meghalaya', 'West Bengal',\n",
       "       'Puducherry', 'Goa', 'Andhra Pradesh', 'Tamil Nadu', 'Odisha',\n",
       "       'Bihar', 'Gujarat', 'Madhya Pradesh', 'Maharashtra', 'Mizoram',\n",
       "       'Punjab', 'Uttar Pradesh', 'Haryana', 'Himachal Pradesh',\n",
       "       'Tripura', 'Nagaland', 'Chhattisgarh', 'Uttarakhand', 'Jharkhand',\n",
       "       'Delhi', 'Manipur', 'Jammu and Kashmir', 'Telangana',\n",
       "       'Arunachal Pradesh', 'Sikkim'], dtype=object)"
      ]
     },
     "execution_count": 7,
     "metadata": {},
     "output_type": "execute_result"
    }
   ],
   "source": [
    "crop[\"State\"].unique()"
   ]
  },
  {
   "cell_type": "code",
   "execution_count": 8,
   "id": "a46218ca",
   "metadata": {},
   "outputs": [],
   "source": [
    "# Using LabelEncoder for encoding\n",
    "encode = LabelEncoder()"
   ]
  },
  {
   "cell_type": "code",
   "execution_count": 9,
   "id": "ad0b3225",
   "metadata": {},
   "outputs": [],
   "source": [
    "# Encoding all the string column to numeric value also we can say it as data preprocessing\n",
    "crop[\"Crop\"] = encode.fit_transform(crop[\"Crop\"])\n",
    "crop[\"Season\"] = encode.fit_transform(crop[\"Season\"])\n",
    "crop[\"State\"] = encode.fit_transform(crop[\"State\"])"
   ]
  },
  {
   "cell_type": "code",
   "execution_count": 10,
   "id": "9a06d851",
   "metadata": {},
   "outputs": [
    {
     "data": {
      "text/plain": [
       "array([ 0,  1,  8,  9, 11, 13, 16, 21, 23, 24, 26, 29, 31, 32, 37, 39, 40,\n",
       "       43, 44, 46, 48, 49, 50, 51, 53,  2,  5,  6, 10, 14, 15, 17, 19, 20,\n",
       "       38,  7,  3, 45,  4, 22, 25, 27, 34, 41, 42, 47, 52, 36, 54, 33, 12,\n",
       "       30, 18, 35, 28])"
      ]
     },
     "execution_count": 10,
     "metadata": {},
     "output_type": "execute_result"
    }
   ],
   "source": [
    "crop[\"Crop\"].unique()"
   ]
  },
  {
   "cell_type": "code",
   "execution_count": 11,
   "id": "8d65d914",
   "metadata": {},
   "outputs": [
    {
     "data": {
      "text/plain": [
       "array([4, 1, 2, 0, 3, 5])"
      ]
     },
     "execution_count": 11,
     "metadata": {},
     "output_type": "execute_result"
    }
   ],
   "source": [
    "crop[\"Season\"].unique()"
   ]
  },
  {
   "cell_type": "code",
   "execution_count": 12,
   "id": "677d0f4e",
   "metadata": {},
   "outputs": [
    {
     "data": {
      "text/plain": [
       "array([ 2, 12, 13, 17, 29, 21,  6,  0, 24, 20,  3,  7, 14, 15, 18, 22, 27,\n",
       "        8,  9, 26, 19,  4, 28, 11,  5, 16, 10, 25,  1, 23])"
      ]
     },
     "execution_count": 12,
     "metadata": {},
     "output_type": "execute_result"
    }
   ],
   "source": [
    "crop[\"State\"].unique()"
   ]
  },
  {
   "cell_type": "code",
   "execution_count": 13,
   "id": "5cc79454",
   "metadata": {},
   "outputs": [],
   "source": [
    "# Dividing Dataset as dependent and independent data\n",
    "x = crop.iloc[:,:-1]\n",
    "y = crop.iloc[:,-1]"
   ]
  },
  {
   "cell_type": "code",
   "execution_count": 14,
   "id": "8313e11b",
   "metadata": {},
   "outputs": [
    {
     "name": "stdout",
     "output_type": "stream",
     "text": [
      "       Crop  Crop_Year  Season  State      Area  Production  Annual_Rainfall  \\\n",
      "0         0       1997       4      2   73814.0       56708           2051.4   \n",
      "1         1       1997       1      2    6637.0        4685           2051.4   \n",
      "2         8       1997       1      2     796.0          22           2051.4   \n",
      "3         9       1997       4      2   19656.0   126905000           2051.4   \n",
      "4        11       1997       1      2    1739.0         794           2051.4   \n",
      "...     ...        ...     ...    ...       ...         ...              ...   \n",
      "19684    44       1998       1     19    4000.0        2000           1498.0   \n",
      "19685    53       1998       2     19    1000.0        3000           1498.0   \n",
      "19686    24       1997       1     10  310883.0      440900           1356.2   \n",
      "19687    40       1997       1     10  275746.0        5488           1356.2   \n",
      "19688    53       1997       2     10  239344.0      392160           1356.2   \n",
      "\n",
      "        Fertilizer  Pesticide  \n",
      "0       7024878.38   22882.34  \n",
      "1        631643.29    2057.47  \n",
      "2         75755.32     246.76  \n",
      "3       1870661.52    6093.36  \n",
      "4        165500.63     539.09  \n",
      "...            ...        ...  \n",
      "19684    395200.00    1160.00  \n",
      "19685     98800.00     290.00  \n",
      "19686  29586735.11   96373.73  \n",
      "19687  26242746.82   85481.26  \n",
      "19688  22778368.48   74196.64  \n",
      "\n",
      "[19689 rows x 9 columns]\n"
     ]
    }
   ],
   "source": [
    "print(x)"
   ]
  },
  {
   "cell_type": "code",
   "execution_count": 15,
   "id": "dfb468b2",
   "metadata": {},
   "outputs": [
    {
     "name": "stdout",
     "output_type": "stream",
     "text": [
      "0           0.796087\n",
      "1           0.710435\n",
      "2           0.238333\n",
      "3        5238.051739\n",
      "4           0.420909\n",
      "            ...     \n",
      "19684       0.500000\n",
      "19685       3.000000\n",
      "19686       1.285000\n",
      "19687       0.016667\n",
      "19688       1.261818\n",
      "Name: Yield, Length: 19689, dtype: float64\n"
     ]
    }
   ],
   "source": [
    "print(y)"
   ]
  },
  {
   "cell_type": "code",
   "execution_count": 16,
   "id": "460f9aff",
   "metadata": {},
   "outputs": [],
   "source": [
    "# Splitting x and y into training and testing\n",
    "x_train, x_test, y_train, y_test = train_test_split(x,y,test_size=0.2)"
   ]
  },
  {
   "cell_type": "code",
   "execution_count": 17,
   "id": "6ca955e1",
   "metadata": {},
   "outputs": [],
   "source": [
    "# Applying Multiple Regresion Algorithm for fit and predict the desired data below in order to know the data."
   ]
  },
  {
   "cell_type": "code",
   "execution_count": 18,
   "id": "0c6239aa",
   "metadata": {},
   "outputs": [],
   "source": [
    "Regg = LinearRegression()"
   ]
  },
  {
   "cell_type": "code",
   "execution_count": 19,
   "id": "5101ccc0",
   "metadata": {},
   "outputs": [
    {
     "data": {
      "text/html": [
       "<style>#sk-container-id-1 {color: black;}#sk-container-id-1 pre{padding: 0;}#sk-container-id-1 div.sk-toggleable {background-color: white;}#sk-container-id-1 label.sk-toggleable__label {cursor: pointer;display: block;width: 100%;margin-bottom: 0;padding: 0.3em;box-sizing: border-box;text-align: center;}#sk-container-id-1 label.sk-toggleable__label-arrow:before {content: \"▸\";float: left;margin-right: 0.25em;color: #696969;}#sk-container-id-1 label.sk-toggleable__label-arrow:hover:before {color: black;}#sk-container-id-1 div.sk-estimator:hover label.sk-toggleable__label-arrow:before {color: black;}#sk-container-id-1 div.sk-toggleable__content {max-height: 0;max-width: 0;overflow: hidden;text-align: left;background-color: #f0f8ff;}#sk-container-id-1 div.sk-toggleable__content pre {margin: 0.2em;color: black;border-radius: 0.25em;background-color: #f0f8ff;}#sk-container-id-1 input.sk-toggleable__control:checked~div.sk-toggleable__content {max-height: 200px;max-width: 100%;overflow: auto;}#sk-container-id-1 input.sk-toggleable__control:checked~label.sk-toggleable__label-arrow:before {content: \"▾\";}#sk-container-id-1 div.sk-estimator input.sk-toggleable__control:checked~label.sk-toggleable__label {background-color: #d4ebff;}#sk-container-id-1 div.sk-label input.sk-toggleable__control:checked~label.sk-toggleable__label {background-color: #d4ebff;}#sk-container-id-1 input.sk-hidden--visually {border: 0;clip: rect(1px 1px 1px 1px);clip: rect(1px, 1px, 1px, 1px);height: 1px;margin: -1px;overflow: hidden;padding: 0;position: absolute;width: 1px;}#sk-container-id-1 div.sk-estimator {font-family: monospace;background-color: #f0f8ff;border: 1px dotted black;border-radius: 0.25em;box-sizing: border-box;margin-bottom: 0.5em;}#sk-container-id-1 div.sk-estimator:hover {background-color: #d4ebff;}#sk-container-id-1 div.sk-parallel-item::after {content: \"\";width: 100%;border-bottom: 1px solid gray;flex-grow: 1;}#sk-container-id-1 div.sk-label:hover label.sk-toggleable__label {background-color: #d4ebff;}#sk-container-id-1 div.sk-serial::before {content: \"\";position: absolute;border-left: 1px solid gray;box-sizing: border-box;top: 0;bottom: 0;left: 50%;z-index: 0;}#sk-container-id-1 div.sk-serial {display: flex;flex-direction: column;align-items: center;background-color: white;padding-right: 0.2em;padding-left: 0.2em;position: relative;}#sk-container-id-1 div.sk-item {position: relative;z-index: 1;}#sk-container-id-1 div.sk-parallel {display: flex;align-items: stretch;justify-content: center;background-color: white;position: relative;}#sk-container-id-1 div.sk-item::before, #sk-container-id-1 div.sk-parallel-item::before {content: \"\";position: absolute;border-left: 1px solid gray;box-sizing: border-box;top: 0;bottom: 0;left: 50%;z-index: -1;}#sk-container-id-1 div.sk-parallel-item {display: flex;flex-direction: column;z-index: 1;position: relative;background-color: white;}#sk-container-id-1 div.sk-parallel-item:first-child::after {align-self: flex-end;width: 50%;}#sk-container-id-1 div.sk-parallel-item:last-child::after {align-self: flex-start;width: 50%;}#sk-container-id-1 div.sk-parallel-item:only-child::after {width: 0;}#sk-container-id-1 div.sk-dashed-wrapped {border: 1px dashed gray;margin: 0 0.4em 0.5em 0.4em;box-sizing: border-box;padding-bottom: 0.4em;background-color: white;}#sk-container-id-1 div.sk-label label {font-family: monospace;font-weight: bold;display: inline-block;line-height: 1.2em;}#sk-container-id-1 div.sk-label-container {text-align: center;}#sk-container-id-1 div.sk-container {/* jupyter's `normalize.less` sets `[hidden] { display: none; }` but bootstrap.min.css set `[hidden] { display: none !important; }` so we also need the `!important` here to be able to override the default hidden behavior on the sphinx rendered scikit-learn.org. See: https://github.com/scikit-learn/scikit-learn/issues/21755 */display: inline-block !important;position: relative;}#sk-container-id-1 div.sk-text-repr-fallback {display: none;}</style><div id=\"sk-container-id-1\" class=\"sk-top-container\"><div class=\"sk-text-repr-fallback\"><pre>LinearRegression()</pre><b>In a Jupyter environment, please rerun this cell to show the HTML representation or trust the notebook. <br />On GitHub, the HTML representation is unable to render, please try loading this page with nbviewer.org.</b></div><div class=\"sk-container\" hidden><div class=\"sk-item\"><div class=\"sk-estimator sk-toggleable\"><input class=\"sk-toggleable__control sk-hidden--visually\" id=\"sk-estimator-id-1\" type=\"checkbox\" checked><label for=\"sk-estimator-id-1\" class=\"sk-toggleable__label sk-toggleable__label-arrow\">LinearRegression</label><div class=\"sk-toggleable__content\"><pre>LinearRegression()</pre></div></div></div></div></div>"
      ],
      "text/plain": [
       "LinearRegression()"
      ]
     },
     "execution_count": 19,
     "metadata": {},
     "output_type": "execute_result"
    }
   ],
   "source": [
    "Regg.fit(x_train,y_train)"
   ]
  },
  {
   "cell_type": "code",
   "execution_count": 20,
   "id": "26a1acda",
   "metadata": {},
   "outputs": [
    {
     "data": {
      "text/plain": [
       "array([237.78064817,  68.28164128,  32.33918287, ..., -65.89851249,\n",
       "        58.45220317,  49.65671222])"
      ]
     },
     "execution_count": 20,
     "metadata": {},
     "output_type": "execute_result"
    }
   ],
   "source": [
    "Regg.predict(x_test)"
   ]
  },
  {
   "cell_type": "code",
   "execution_count": 21,
   "id": "31ba501f",
   "metadata": {},
   "outputs": [
    {
     "data": {
      "text/plain": [
       "35.14840864757819"
      ]
     },
     "execution_count": 21,
     "metadata": {},
     "output_type": "execute_result"
    }
   ],
   "source": [
    "# Training Accuracy\n",
    "Regg.score(x_train,y_train)*100"
   ]
  },
  {
   "cell_type": "code",
   "execution_count": 22,
   "id": "81f9b9c8",
   "metadata": {},
   "outputs": [
    {
     "data": {
      "text/plain": [
       "array([0.31111111, 0.35357143, 6.55857143, ..., 1.36      , 0.37166667,\n",
       "       0.80727273])"
      ]
     },
     "execution_count": 22,
     "metadata": {},
     "output_type": "execute_result"
    }
   ],
   "source": [
    "Dec = DecisionTreeRegressor()\n",
    "Dec.fit(x_train,y_train)\n",
    "Dec.predict(x_test)"
   ]
  },
  {
   "cell_type": "code",
   "execution_count": 23,
   "id": "61d55b92",
   "metadata": {},
   "outputs": [
    {
     "data": {
      "text/plain": [
       "100.0"
      ]
     },
     "execution_count": 23,
     "metadata": {},
     "output_type": "execute_result"
    }
   ],
   "source": [
    "# Training Accuracy\n",
    "Dec.score(x_train,y_train)*100"
   ]
  },
  {
   "cell_type": "code",
   "execution_count": 24,
   "id": "2eec7bf5",
   "metadata": {},
   "outputs": [
    {
     "data": {
      "text/plain": [
       "99.058118025413"
      ]
     },
     "execution_count": 24,
     "metadata": {},
     "output_type": "execute_result"
    }
   ],
   "source": [
    "# Testing Accuracy\n",
    "Dec.score(x_test,y_test)*100"
   ]
  },
  {
   "cell_type": "code",
   "execution_count": 25,
   "id": "376fd635",
   "metadata": {},
   "outputs": [
    {
     "data": {
      "text/plain": [
       "array([0.27403567, 0.35143528, 6.57259732, ..., 1.45908706, 0.37897893,\n",
       "       0.79841867])"
      ]
     },
     "execution_count": 25,
     "metadata": {},
     "output_type": "execute_result"
    }
   ],
   "source": [
    "Rand = RandomForestRegressor(n_estimators=60)\n",
    "Rand.fit(x_train,y_train)\n",
    "Rand.predict(x_test)"
   ]
  },
  {
   "cell_type": "code",
   "execution_count": 26,
   "id": "1dc2d328",
   "metadata": {},
   "outputs": [
    {
     "data": {
      "text/plain": [
       "99.12959970284643"
      ]
     },
     "execution_count": 26,
     "metadata": {},
     "output_type": "execute_result"
    }
   ],
   "source": [
    "# Training Accuracy\n",
    "Rand.score(x_train,y_train)*100"
   ]
  },
  {
   "cell_type": "code",
   "execution_count": 27,
   "id": "2cdd28c2",
   "metadata": {},
   "outputs": [
    {
     "data": {
      "text/plain": [
       "98.24262557984471"
      ]
     },
     "execution_count": 27,
     "metadata": {},
     "output_type": "execute_result"
    }
   ],
   "source": [
    "# Testing Accuracy\n",
    "Rand.score(x_test,y_test)*100"
   ]
  },
  {
   "cell_type": "code",
   "execution_count": 28,
   "id": "c2f19114",
   "metadata": {},
   "outputs": [
    {
     "data": {
      "text/plain": [
       "array([0.36945848, 0.39429937, 6.72608756, ..., 1.43410519, 1.34800468,\n",
       "       0.83719612])"
      ]
     },
     "execution_count": 28,
     "metadata": {},
     "output_type": "execute_result"
    }
   ],
   "source": [
    "Etr = ExtraTreesRegressor(n_estimators=50)\n",
    "Etr.fit(x_train,y_train)\n",
    "Etr.predict(x_test)"
   ]
  },
  {
   "cell_type": "code",
   "execution_count": 29,
   "id": "aa58edb9",
   "metadata": {},
   "outputs": [
    {
     "data": {
      "text/plain": [
       "100.0"
      ]
     },
     "execution_count": 29,
     "metadata": {},
     "output_type": "execute_result"
    }
   ],
   "source": [
    "# Training Accuracy\n",
    "Etr.score(x_train,y_train)*100"
   ]
  },
  {
   "cell_type": "code",
   "execution_count": 30,
   "id": "9b3d7c5e",
   "metadata": {},
   "outputs": [
    {
     "data": {
      "text/plain": [
       "99.58722208876772"
      ]
     },
     "execution_count": 30,
     "metadata": {},
     "output_type": "execute_result"
    }
   ],
   "source": [
    "# Testing Accuracy\n",
    "Etr.score(x_test,y_test)*100"
   ]
  },
  {
   "cell_type": "code",
   "execution_count": 31,
   "id": "31a427ba",
   "metadata": {},
   "outputs": [
    {
     "data": {
      "text/plain": [
       "array([0.39955238, 0.29548386, 5.49938236, ..., 1.93178803, 0.78278182,\n",
       "       0.87047273])"
      ]
     },
     "execution_count": 31,
     "metadata": {},
     "output_type": "execute_result"
    }
   ],
   "source": [
    "k = KNeighborsRegressor()\n",
    "k.fit(x_train,y_train)\n",
    "k.predict(x_test)"
   ]
  },
  {
   "cell_type": "code",
   "execution_count": 32,
   "id": "7c66ea82",
   "metadata": {},
   "outputs": [
    {
     "data": {
      "text/plain": [
       "94.72715275825443"
      ]
     },
     "execution_count": 32,
     "metadata": {},
     "output_type": "execute_result"
    }
   ],
   "source": [
    "# Training Accuracy\n",
    "k.score(x_train,y_train)*100"
   ]
  },
  {
   "cell_type": "code",
   "execution_count": 33,
   "id": "10f116ed",
   "metadata": {},
   "outputs": [
    {
     "data": {
      "text/plain": [
       "91.79506905652036"
      ]
     },
     "execution_count": 33,
     "metadata": {},
     "output_type": "execute_result"
    }
   ],
   "source": [
    "# Testing Accuracy\n",
    "k.score(x_test,y_test)*100"
   ]
  },
  {
   "cell_type": "code",
   "execution_count": 34,
   "id": "97f57665",
   "metadata": {},
   "outputs": [
    {
     "data": {
      "text/plain": [
       "array([-0.4074052 ,  0.12183831,  6.6034055 , ...,  1.071834  ,\n",
       "        0.52750033,  0.9339147 ], dtype=float32)"
      ]
     },
     "execution_count": 34,
     "metadata": {},
     "output_type": "execute_result"
    }
   ],
   "source": [
    "xgb = XGBRegressor()\n",
    "xgb.fit(x_train,y_train)\n",
    "xgb.predict(x_test)"
   ]
  },
  {
   "cell_type": "code",
   "execution_count": 35,
   "id": "b5991a51",
   "metadata": {},
   "outputs": [
    {
     "data": {
      "text/plain": [
       "99.99977673155087"
      ]
     },
     "execution_count": 35,
     "metadata": {},
     "output_type": "execute_result"
    }
   ],
   "source": [
    "# Training Accuracy\n",
    "xgb.score(x_train,y_train)*100"
   ]
  },
  {
   "cell_type": "code",
   "execution_count": 36,
   "id": "48242e1c",
   "metadata": {},
   "outputs": [
    {
     "data": {
      "text/plain": [
       "96.8469941962726"
      ]
     },
     "execution_count": 36,
     "metadata": {},
     "output_type": "execute_result"
    }
   ],
   "source": [
    "# Testing Accuracy\n",
    "xgb.score(x_test,y_test)*100"
   ]
  },
  {
   "cell_type": "code",
   "execution_count": 37,
   "id": "3dcd072e",
   "metadata": {},
   "outputs": [
    {
     "data": {
      "text/plain": [
       "array([0.27852377, 0.40175581, 6.69057619, ..., 1.43218897, 0.82570214,\n",
       "       1.06971051])"
      ]
     },
     "execution_count": 37,
     "metadata": {},
     "output_type": "execute_result"
    }
   ],
   "source": [
    "vc = VotingRegressor(estimators=[('Etr',Etr),('Dec',Dec)])\n",
    "vc.fit(x_train,y_train)\n",
    "vc.predict(x_test)"
   ]
  },
  {
   "cell_type": "code",
   "execution_count": 38,
   "id": "861249f3",
   "metadata": {},
   "outputs": [
    {
     "data": {
      "text/plain": [
       "100.0"
      ]
     },
     "execution_count": 38,
     "metadata": {},
     "output_type": "execute_result"
    }
   ],
   "source": [
    "# Training Accuracy\n",
    "vc.score(x_train,y_train)*100"
   ]
  },
  {
   "cell_type": "code",
   "execution_count": 39,
   "id": "d7cb73e8",
   "metadata": {},
   "outputs": [
    {
     "data": {
      "text/plain": [
       "99.49005478542814"
      ]
     },
     "execution_count": 39,
     "metadata": {},
     "output_type": "execute_result"
    }
   ],
   "source": [
    "# Testing Accuracy\n",
    "vc.score(x_test,y_test)*100"
   ]
  },
  {
   "cell_type": "code",
   "execution_count": 40,
   "id": "d6d5e825",
   "metadata": {},
   "outputs": [],
   "source": [
    "# The model has 99.22% of Accuracy\n",
    "def CropYieldPrediction():\n",
    "    # Taking user input\n",
    "    Crop = input(\"Enter Crop from the following (Arecanut, Arhar/Tur, Castor seed, Coconut, Cotton(lint), Dry chillies, Gram, Jute, Linseed, Maize, Mesta, Niger seed, Onion, Other Rabi pulses, Potato, Rapeseed & Mustard, Rice, Sesamum, Small millets, Sugarcane, Sweet potato, Tapioca, Tobacco, Turmeric, Wheat, Bajra, Black pepper, Cardamom, Coriander, Garlic, Ginger, Groundnut, Horse-gram, Jowar, Ragi, Cashewnut, Banana, Soyabean, Barley, Khesari, Masoor, Moong(Green Gram), Other Kharif pulses, Safflower, Sannhamp, Sunflower, Urad, Peas & beans (Pulses), other oilseeds, Other Cereals, Cowpea(Lobia), Oilseeds total, Guar seed, Other Summer Pulses, Moth): \")\n",
    "    Crop_Year = int(input(\"Enter Crop Year: \"))\n",
    "    Season = input(\"Enter Season from (Whole Year, Kharif, Rabi, Autumn, Summer, Winter): \")\n",
    "    State = input(\"Enter State from (Assam, Karnataka, Kerala, Meghalaya, West Bengal, Puducherry, Goa, Andhra Pradesh, Tamil Nadu, Odisha, Bihar, Gujarat, Madhya Pradesh, Maharashtra, Mizoram, Punjab, Uttar Pradesh, Haryana, Himachal Pradesh, Tripura, Nagaland, Chhattisgarh, Uttarakhand, Jharkhand, Delhi, Manipur, Jammu and Kashmir, Telangana, Arunachal Pradesh, Sikkim): \")\n",
    "    Area = float(input(\"Enter Area(in ha)(also 1 he = 1000 sq meters): \"))\n",
    "    Production = float(input(\"Enter Production(in kg): \"))\n",
    "    Annual_Rainfall = float(input(\"Enter Annual Rainfall(in mm): \"))\n",
    "    Fertilizer = float(input(\"Enter Fertilizer(in kg): \"))\n",
    "    Pesticide = float(input(\"Enter Pesticide(in kg): \"))\n",
    "    # Encoding the input parameters\n",
    "    Crop = encode.fit_transform([Crop])[0]\n",
    "    Season = encode.fit_transform([Season])[0]\n",
    "    State = encode.fit_transform([State])[0]\n",
    "    input_data = [[Crop,Crop_Year,Season,State,Area,Production,Annual_Rainfall,Fertilizer,Pesticide]]\n",
    "    result = Etr.predict(input_data)\n",
    "    print(f\"{result} kg/ha is type crop yield.\")"
   ]
  },
  {
   "cell_type": "code",
   "execution_count": 41,
   "id": "035b48ac",
   "metadata": {},
   "outputs": [
    {
     "name": "stdout",
     "output_type": "stream",
     "text": [
      "Enter Crop from the following (Arecanut, Arhar/Tur, Castor seed, Coconut, Cotton(lint), Dry chillies, Gram, Jute, Linseed, Maize, Mesta, Niger seed, Onion, Other Rabi pulses, Potato, Rapeseed & Mustard, Rice, Sesamum, Small millets, Sugarcane, Sweet potato, Tapioca, Tobacco, Turmeric, Wheat, Bajra, Black pepper, Cardamom, Coriander, Garlic, Ginger, Groundnut, Horse-gram, Jowar, Ragi, Cashewnut, Banana, Soyabean, Barley, Khesari, Masoor, Moong(Green Gram), Other Kharif pulses, Safflower, Sannhamp, Sunflower, Urad, Peas & beans (Pulses), other oilseeds, Other Cereals, Cowpea(Lobia), Oilseeds total, Guar seed, Other Summer Pulses, Moth): Urad\n",
      "Enter Crop Year: 2024\n",
      "Enter Season from (Whole Year, Kharif, Rabi, Autumn, Summer, Winter): Kharif\n",
      "Enter State from (Assam, Karnataka, Kerala, Meghalaya, West Bengal, Puducherry, Goa, Andhra Pradesh, Tamil Nadu, Odisha, Bihar, Gujarat, Madhya Pradesh, Maharashtra, Mizoram, Punjab, Uttar Pradesh, Haryana, Himachal Pradesh, Tripura, Nagaland, Chhattisgarh, Uttarakhand, Jharkhand, Delhi, Manipur, Jammu and Kashmir, Telangana, Arunachal Pradesh, Sikkim): Uttar Pradesh\n",
      "Enter Area(in ha)(also 1 he = 1000 sq meters): 50\n",
      "Enter Production(in kg): 900000\n",
      "Enter Annual Rainfall(in mm): 230.9\n",
      "Enter Fertilizer(in kg): 22\n",
      "Enter Pesticide(in kg): 44.1\n",
      "[56.90675436] kg/ha is type crop yield.\n"
     ]
    },
    {
     "name": "stderr",
     "output_type": "stream",
     "text": [
      "C:\\ProgramData\\anaconda3\\Lib\\site-packages\\sklearn\\base.py:464: UserWarning: X does not have valid feature names, but ExtraTreesRegressor was fitted with feature names\n",
      "  warnings.warn(\n"
     ]
    }
   ],
   "source": [
    "# Sample testing of prediction function\n",
    "CropYieldPrediction()"
   ]
  },
  {
   "cell_type": "code",
   "execution_count": 42,
   "id": "8e73e9c6",
   "metadata": {},
   "outputs": [
    {
     "name": "stdout",
     "output_type": "stream",
     "text": [
      "Enter Crop from the following (Arecanut, Arhar/Tur, Castor seed, Coconut, Cotton(lint), Dry chillies, Gram, Jute, Linseed, Maize, Mesta, Niger seed, Onion, Other Rabi pulses, Potato, Rapeseed & Mustard, Rice, Sesamum, Small millets, Sugarcane, Sweet potato, Tapioca, Tobacco, Turmeric, Wheat, Bajra, Black pepper, Cardamom, Coriander, Garlic, Ginger, Groundnut, Horse-gram, Jowar, Ragi, Cashewnut, Banana, Soyabean, Barley, Khesari, Masoor, Moong(Green Gram), Other Kharif pulses, Safflower, Sannhamp, Sunflower, Urad, Peas & beans (Pulses), other oilseeds, Other Cereals, Cowpea(Lobia), Oilseeds total, Guar seed, Other Summer Pulses, Moth): Cashewnut\n",
      "Enter Crop Year: 2020\n",
      "Enter Season from (Whole Year, Kharif, Rabi, Autumn, Summer, Winter): Rabi\n",
      "Enter State from (Assam, Karnataka, Kerala, Meghalaya, West Bengal, Puducherry, Goa, Andhra Pradesh, Tamil Nadu, Odisha, Bihar, Gujarat, Madhya Pradesh, Maharashtra, Mizoram, Punjab, Uttar Pradesh, Haryana, Himachal Pradesh, Tripura, Nagaland, Chhattisgarh, Uttarakhand, Jharkhand, Delhi, Manipur, Jammu and Kashmir, Telangana, Arunachal Pradesh, Sikkim): Haryana\n",
      "Enter Area(in ha)(also 1 he = 1000 sq meters): 20\n",
      "Enter Production(in kg): 47050\n",
      "Enter Annual Rainfall(in mm): 120\n",
      "Enter Fertilizer(in kg): 10.5\n",
      "Enter Pesticide(in kg): 15.6\n",
      "[53.95226802] kg/ha is type crop yield.\n"
     ]
    },
    {
     "name": "stderr",
     "output_type": "stream",
     "text": [
      "C:\\ProgramData\\anaconda3\\Lib\\site-packages\\sklearn\\base.py:464: UserWarning: X does not have valid feature names, but ExtraTreesRegressor was fitted with feature names\n",
      "  warnings.warn(\n"
     ]
    }
   ],
   "source": [
    "CropYieldPrediction()"
   ]
  },
  {
   "cell_type": "code",
   "execution_count": 43,
   "id": "186ab73f",
   "metadata": {},
   "outputs": [
    {
     "name": "stdout",
     "output_type": "stream",
     "text": [
      "Enter Crop from the following (Arecanut, Arhar/Tur, Castor seed, Coconut, Cotton(lint), Dry chillies, Gram, Jute, Linseed, Maize, Mesta, Niger seed, Onion, Other Rabi pulses, Potato, Rapeseed & Mustard, Rice, Sesamum, Small millets, Sugarcane, Sweet potato, Tapioca, Tobacco, Turmeric, Wheat, Bajra, Black pepper, Cardamom, Coriander, Garlic, Ginger, Groundnut, Horse-gram, Jowar, Ragi, Cashewnut, Banana, Soyabean, Barley, Khesari, Masoor, Moong(Green Gram), Other Kharif pulses, Safflower, Sannhamp, Sunflower, Urad, Peas & beans (Pulses), other oilseeds, Other Cereals, Cowpea(Lobia), Oilseeds total, Guar seed, Other Summer Pulses, Moth): Rice\n",
      "Enter Crop Year: 2025\n",
      "Enter Season from (Whole Year, Kharif, Rabi, Autumn, Summer, Winter): Kharif\n",
      "Enter State from (Assam, Karnataka, Kerala, Meghalaya, West Bengal, Puducherry, Goa, Andhra Pradesh, Tamil Nadu, Odisha, Bihar, Gujarat, Madhya Pradesh, Maharashtra, Mizoram, Punjab, Uttar Pradesh, Haryana, Himachal Pradesh, Tripura, Nagaland, Chhattisgarh, Uttarakhand, Jharkhand, Delhi, Manipur, Jammu and Kashmir, Telangana, Arunachal Pradesh, Sikkim): Jammu and Kashmir\n",
      "Enter Area(in ha)(also 1 he = 1000 sq meters): 275746\n",
      "Enter Production(in kg): 5488000090\n",
      "Enter Annual Rainfall(in mm): 1356.2\n",
      "Enter Fertilizer(in kg): 22778368.48\n",
      "Enter Pesticide(in kg): 85481.26\n",
      "[10395.95808521] kg/ha is type crop yield.\n"
     ]
    },
    {
     "name": "stderr",
     "output_type": "stream",
     "text": [
      "C:\\ProgramData\\anaconda3\\Lib\\site-packages\\sklearn\\base.py:464: UserWarning: X does not have valid feature names, but ExtraTreesRegressor was fitted with feature names\n",
      "  warnings.warn(\n"
     ]
    }
   ],
   "source": [
    "CropYieldPrediction()"
   ]
  },
  {
   "cell_type": "code",
   "execution_count": 44,
   "id": "9a69d8af",
   "metadata": {},
   "outputs": [
    {
     "name": "stdout",
     "output_type": "stream",
     "text": [
      "Enter Crop from the following (Arecanut, Arhar/Tur, Castor seed, Coconut, Cotton(lint), Dry chillies, Gram, Jute, Linseed, Maize, Mesta, Niger seed, Onion, Other Rabi pulses, Potato, Rapeseed & Mustard, Rice, Sesamum, Small millets, Sugarcane, Sweet potato, Tapioca, Tobacco, Turmeric, Wheat, Bajra, Black pepper, Cardamom, Coriander, Garlic, Ginger, Groundnut, Horse-gram, Jowar, Ragi, Cashewnut, Banana, Soyabean, Barley, Khesari, Masoor, Moong(Green Gram), Other Kharif pulses, Safflower, Sannhamp, Sunflower, Urad, Peas & beans (Pulses), other oilseeds, Other Cereals, Cowpea(Lobia), Oilseeds total, Guar seed, Other Summer Pulses, Moth): Maize\n",
      "Enter Crop Year: 2025\n",
      "Enter Season from (Whole Year, Kharif, Rabi, Autumn, Summer, Winter): Kharif\n",
      "Enter State from (Assam, Karnataka, Kerala, Meghalaya, West Bengal, Puducherry, Goa, Andhra Pradesh, Tamil Nadu, Odisha, Bihar, Gujarat, Madhya Pradesh, Maharashtra, Mizoram, Punjab, Uttar Pradesh, Haryana, Himachal Pradesh, Tripura, Nagaland, Chhattisgarh, Uttarakhand, Jharkhand, Delhi, Manipur, Jammu and Kashmir, Telangana, Arunachal Pradesh, Sikkim): Karnataka\n",
      "Enter Area(in ha)(also 1 he = 1000 sq meters): 239344\n",
      "Enter Production(in kg): 3921600093\n",
      "Enter Annual Rainfall(in mm): 1359.2\n",
      "Enter Fertilizer(in kg): 28800\n",
      "Enter Pesticide(in kg): 26373.93\n",
      "[11549.53154225] kg/ha is type crop yield.\n"
     ]
    },
    {
     "name": "stderr",
     "output_type": "stream",
     "text": [
      "C:\\ProgramData\\anaconda3\\Lib\\site-packages\\sklearn\\base.py:464: UserWarning: X does not have valid feature names, but ExtraTreesRegressor was fitted with feature names\n",
      "  warnings.warn(\n"
     ]
    }
   ],
   "source": [
    "CropYieldPrediction()"
   ]
  },
  {
   "cell_type": "code",
   "execution_count": null,
   "id": "9543bb3b",
   "metadata": {},
   "outputs": [],
   "source": []
  }
 ],
 "metadata": {
  "kernelspec": {
   "display_name": "Python 3 (ipykernel)",
   "language": "python",
   "name": "python3"
  },
  "language_info": {
   "codemirror_mode": {
    "name": "ipython",
    "version": 3
   },
   "file_extension": ".py",
   "mimetype": "text/x-python",
   "name": "python",
   "nbconvert_exporter": "python",
   "pygments_lexer": "ipython3",
   "version": "3.11.5"
  }
 },
 "nbformat": 4,
 "nbformat_minor": 5
}
